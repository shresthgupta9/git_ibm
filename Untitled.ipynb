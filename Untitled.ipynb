{
 "cells": [
  {
   "cell_type": "markdown",
   "id": "ddb15098-b6c6-4239-9782-9ec6293369c9",
   "metadata": {},
   "source": [
    "# Final Assignment"
   ]
  },
  {
   "cell_type": "markdown",
   "id": "4558dd65-cd09-4928-b886-a2c0100d6620",
   "metadata": {},
   "source": [
    "# My name is shresth raj gupta"
   ]
  },
  {
   "cell_type": "markdown",
   "id": "ccbe4900-3ef9-4269-a943-556bcb3a331c",
   "metadata": {},
   "source": [
    "famous data science languages are \n",
    "- Python\n",
    "- R\n",
    "- mySQL"
   ]
  },
  {
   "cell_type": "markdown",
   "id": "bec802e7-6117-48dd-8b91-c3348c6feaf3",
   "metadata": {},
   "source": [
    "famous libraries are\n",
    "- NumPy\n",
    "- Pandas\n",
    "- MatPlotLib"
   ]
  },
  {
   "cell_type": "markdown",
   "id": "eaff3fda-e035-49f0-942b-282f093f4a69",
   "metadata": {},
   "source": [
    "table for some tools:\n",
    "\n",
    "| Id | Label        |\n",
    "|--- |----------    |\n",
    "| 01 | Apache Spark |\n",
    "| 02 | IBM SPSS     |\n",
    "| 03 | Julia        |"
   ]
  },
  {
   "cell_type": "markdown",
   "id": "6a1caecc-228e-4826-a7ed-496487a57847",
   "metadata": {},
   "source": [
    "arithmatic operations:\n",
    "- (2 + 2) will give output 4\n",
    "- (8 - 2) will give output 6"
   ]
  },
  {
   "cell_type": "code",
   "execution_count": 2,
   "id": "cf286439-b61c-400d-a41d-6cb0e2c18149",
   "metadata": {},
   "outputs": [
    {
     "data": {
      "text/plain": [
       "3"
      ]
     },
     "execution_count": 2,
     "metadata": {},
     "output_type": "execute_result"
    }
   ],
   "source": [
    "4*2-5"
   ]
  },
  {
   "cell_type": "code",
   "execution_count": 11,
   "id": "d0e8e688-0455-4c77-81bb-3b2efa40549e",
   "metadata": {},
   "outputs": [
    {
     "data": {
      "text/plain": [
       "2.0"
      ]
     },
     "execution_count": 11,
     "metadata": {},
     "output_type": "execute_result"
    }
   ],
   "source": [
    "def hours(minutes):\n",
    "    return (minutes/60)\n",
    "\n",
    "hours(120)"
   ]
  },
  {
   "cell_type": "markdown",
   "id": "0df14b2a-ad34-420a-a549-7dec9f34dadc",
   "metadata": {},
   "source": [
    "i don't know what is objective :("
   ]
  },
  {
   "cell_type": "markdown",
   "id": "390af7ae-b50d-46ff-b606-9ab7b4de489f",
   "metadata": {},
   "source": [
    "who is the author?"
   ]
  }
 ],
 "metadata": {
  "kernelspec": {
   "display_name": "Python",
   "language": "python",
   "name": "conda-env-python-py"
  },
  "language_info": {
   "codemirror_mode": {
    "name": "ipython",
    "version": 3
   },
   "file_extension": ".py",
   "mimetype": "text/x-python",
   "name": "python",
   "nbconvert_exporter": "python",
   "pygments_lexer": "ipython3",
   "version": "3.7.12"
  }
 },
 "nbformat": 4,
 "nbformat_minor": 5
}
